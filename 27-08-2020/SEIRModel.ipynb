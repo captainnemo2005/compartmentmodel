{
 "cells": [
  {
   "cell_type": "code",
   "execution_count": 1,
   "metadata": {},
   "outputs": [],
   "source": [
    "import numpy as np\n",
    "import matplotlib.pyplot as plt\n",
    "import pickle"
   ]
  },
  {
   "cell_type": "code",
   "execution_count": null,
   "metadata": {},
   "outputs": [],
   "source": []
  },
  {
   "cell_type": "code",
   "execution_count": 2,
   "metadata": {},
   "outputs": [
    {
     "name": "stdout",
     "output_type": "stream",
     "text": [
      "[[  0.           0.           0.         ... 717.26931353   0.\n",
      "    0.        ]\n",
      " [  0.           0.           0.         ... 791.55672823   0.\n",
      "    0.        ]\n",
      " [  0.           0.           0.         ... 834.59113913   0.\n",
      "    0.        ]\n",
      " ...\n",
      " [  0.           0.           0.         ... 872.20571133   0.\n",
      "    0.        ]\n",
      " [  0.           0.           0.         ... 760.61051671   0.\n",
      "    0.        ]\n",
      " [  0.           0.           0.         ... 539.28813966   0.\n",
      "    0.        ]]\n"
     ]
    }
   ],
   "source": [
    "pkl_file = open(\"Yerevan_population.pkl\", \"rb\")\n",
    "population = pickle.load(pkl_file)\n",
    "pkl_file.close()\n",
    "print(population)"
   ]
  },
  {
   "cell_type": "code",
   "execution_count": 4,
   "metadata": {},
   "outputs": [
    {
     "data": {
      "text/plain": [
       "numpy.ndarray"
      ]
     },
     "execution_count": 4,
     "metadata": {},
     "output_type": "execute_result"
    }
   ],
   "source": [
    "type(population)"
   ]
  },
  {
   "cell_type": "code",
   "execution_count": 4,
   "metadata": {},
   "outputs": [
    {
     "data": {
      "image/png": "[encoded data removed]",
      "text/plain": [
       "<Figure size 432x288 with 1 Axes>"
      ]
     },
     "metadata": {
      "needs_background": "light"
     },
     "output_type": "display_data"
    }
   ],
   "source": [
    "plt.hist(population[12], bins=50)\n",
    "plt.show()"
   ]
  },
  {
   "cell_type": "code",
   "execution_count": 5,
   "metadata": {},
   "outputs": [
    {
     "name": "stdout",
     "output_type": "stream",
     "text": [
      "[[[ 42.   0.   0. ...   0.   0.   0.]\n",
      "  [  0.  42.   0. ...   0.   0.   0.]\n",
      "  [  0.   0.  42. ...   0.   0.   0.]\n",
      "  ...\n",
      "  [  0.   0.   0. ... 853.   0.   0.]\n",
      "  [  0.   0.   0. ...   0.  42.   0.]\n",
      "  [  0.   0.   0. ...   0.   0.  42.]]\n",
      "\n",
      " [[ 76.   0.   0. ...   0.   0.   0.]\n",
      "  [  0.  76.   0. ...   0.   0.   0.]\n",
      "  [  0.   0.  76. ...   0.   0.   0.]\n",
      "  ...\n",
      "  [  0.   0.   0. ... 765.   0.   0.]\n",
      "  [  0.   0.   0. ...   0.  76.   0.]\n",
      "  [  0.   0.   0. ...   0.   0.  76.]]\n",
      "\n",
      " [[ 63.   0.   0. ...   0.   0.   0.]\n",
      "  [  0.  63.   0. ...   0.   0.   0.]\n",
      "  [  0.   0.  63. ...   0.   0.   0.]\n",
      "  ...\n",
      "  [  0.   0.   0. ... 765.   0.   0.]\n",
      "  [  0.   0.   0. ...   0.  63.   0.]\n",
      "  [  0.   0.   0. ...   0.   0.  63.]]\n",
      "\n",
      " ...\n",
      "\n",
      " [[ 17.   0.   0. ...   0.   0.   0.]\n",
      "  [  0.  17.   0. ...   0.   0.   0.]\n",
      "  [  0.   0.  17. ...   0.   0.   0.]\n",
      "  ...\n",
      "  [  0.   0.   0. ... 444.   0.   0.]\n",
      "  [  0.   0.   0. ...   0.  17.   0.]\n",
      "  [  0.   0.   0. ...   0.   0.  17.]]\n",
      "\n",
      " [[ 20.   0.   0. ...   0.   0.   0.]\n",
      "  [  0.  20.   0. ...   0.   0.   0.]\n",
      "  [  0.   0.  20. ...   0.   0.   0.]\n",
      "  ...\n",
      "  [  0.   0.   0. ... 506.   0.   0.]\n",
      "  [  0.   0.   0. ...   0.  20.   0.]\n",
      "  [  0.   0.   0. ...   0.   0.  20.]]\n",
      "\n",
      " [[ 24.   0.   0. ...   0.   0.   0.]\n",
      "  [  0.  24.   0. ...   0.   0.   0.]\n",
      "  [  0.   0.  24. ...   0.   0.   0.]\n",
      "  ...\n",
      "  [  0.   0.   0. ... 584.   0.   0.]\n",
      "  [  0.   0.   0. ...   0.  24.   0.]\n",
      "  [  0.   0.   0. ...   0.   0.  24.]]]\n"
     ]
    }
   ],
   "source": [
    "pkl_file = open(\"Yerevan_OD_matrices.pkl\", \"rb\")\n",
    "OD_matrices = pickle.load(pkl_file)\n",
    "pkl_file.close()\n",
    "print(OD_matrices)"
   ]
  },
  {
   "cell_type": "code",
   "execution_count": 6,
   "metadata": {},
   "outputs": [
    {
     "data": {
      "text/plain": [
       "(84, 549, 549)"
      ]
     },
     "execution_count": 6,
     "metadata": {},
     "output_type": "execute_result"
    }
   ],
   "source": [
    "OD_matrices.shape"
   ]
  },
  {
   "cell_type": "code",
   "execution_count": 7,
   "metadata": {},
   "outputs": [
    {
     "data": {
      "image/png": "[encoded data removed]",
      "text/plain": [
       "<Figure size 432x288 with 1 Axes>"
      ]
     },
     "metadata": {
      "needs_background": "light"
     },
     "output_type": "display_data"
    }
   ],
   "source": [
    "plt.imshow(OD_matrices[12], cmap='Blues')\n",
    "plt.show()"
   ]
  },
  {
   "cell_type": "code",
   "execution_count": 8,
   "metadata": {},
   "outputs": [
    {
     "name": "stdout",
     "output_type": "stream",
     "text": [
      "On-diagonal sum:  950002.0\n",
      "Off-diagonal sum:  49144.0\n"
     ]
    }
   ],
   "source": [
    "print(\"On-diagonal sum: \", np.diagonal(OD_matrices[12]).sum())\n",
    "print(\"Off-diagonal sum: \", OD_matrices[12].sum() - np.diagonal(OD_matrices[12]).sum())"
   ]
  },
  {
   "cell_type": "markdown",
   "metadata": {},
   "source": [
    "## Covid-19 model"
   ]
  },
  {
   "cell_type": "code",
   "execution_count": 9,
   "metadata": {},
   "outputs": [],
   "source": [
    "from collections import namedtuple"
   ]
  },
  {
   "cell_type": "code",
   "execution_count": 10,
   "metadata": {},
   "outputs": [],
   "source": [
    "Param = namedtuple('Param', 'R0 DE DI I0 HospitalisationRate HospiterIters')\n",
    "# I0 is the distribution of infected people at time t=0, if None then randomly choose inf number of people"
   ]
  },
  {
   "cell_type": "code",
   "execution_count": 22,
   "metadata": {},
   "outputs": [],
   "source": [
    "# flow is a 3D matrix of dimensions r x n x n (i.e., 84 x 549 x 549),\n",
    "# flow[t mod r] is the desired OD matrix at time t.\n",
    "\n",
    "def seir(par, distr, flow, alpha, iterations, inf):\n",
    "    \n",
    "    r = flow.shape[0]\n",
    "    n = flow.shape[1]\n",
    "    N = distr[0].sum() # total population, we assume that N = sum(flow)\n",
    "    \n",
    "    Svec = distr[0].copy()\n",
    "    Evec = np.zeros(n)\n",
    "    Ivec = np.zeros(n)\n",
    "    Rvec = np.zeros(n)\n",
    "    \n",
    "    if par.I0 is None:\n",
    "        initial = np.zeros(n)\n",
    "        # randomly choose inf infections\n",
    "        for i in range(inf):\n",
    "            loc = np.random.randint(n)\n",
    "            if (Svec[loc] > initial[loc]):\n",
    "                initial[loc] += 1.0\n",
    "                \n",
    "    else:\n",
    "        initial = par.I0\n",
    "    assert ((Svec < initial).sum() == 0)\n",
    "    \n",
    "    Svec =- initial\n",
    "    Ivec =+ initial\n",
    "    \n",
    "    res = np.zeros((iterations, 5))\n",
    "    res[0,:] = [Svec.sum(), Evec.sum(), Ivec.sum(), Rvec.sum(), 0]\n",
    "    \n",
    "    realflow = flow.copy() # copy!\n",
    "\n",
    "    # The two lines below normalise the flows and then multiply them by the alpha values. \n",
    "    # This is actually the \"wrong\" the way to do it because alpha will not be a *linear* measure \n",
    "    # representing lockdown strength but a *nonlinear* one.\n",
    "    # The normalisation strategy has been chosen for demonstration purposes of numpy functionality.\n",
    "    # (Optional) can you rewrite this part so that alpha remains a linear measure of lockdown strength? :)\n",
    "    realflow = realflow / realflow.sum(axis=2)[:,:, np.newaxis]    \n",
    "    realflow = alpha * realflow    \n",
    "    \n",
    "    history = np.zeros((iterations, 5, n))\n",
    "    history[0,0,:] = Svec\n",
    "    history[0,1,:] = Evec\n",
    "    history[0,2,:] = Ivec\n",
    "    history[0,3,:] = Rvec\n",
    "    \n",
    "    eachIter = np.zeros(iterations + 1)\n",
    "    \n",
    "    # run simulation\n",
    "    for iter in range(0, iterations - 1):\n",
    "        realOD = realflow[iter % r]\n",
    "        \n",
    "        d = distr[iter % r] + 1\n",
    "        \n",
    "        if ((d>N+1).any()): #assertion!\n",
    "            print(\"Houston, we have a problem!\")\n",
    "            return res, history\n",
    "        # N =  S + E + I + R\n",
    "        \n",
    "        newE = Svec * Ivec / d * par.R0 / par.DI\n",
    "        newI = Evec / par.DE\n",
    "        newR = Ivec / par.DI\n",
    "        \n",
    "        Svec -= newE\n",
    "        Svec = (Svec \n",
    "               + np.matmul(Svec.reshape(1,n), realOD)\n",
    "               - Svec * realOD.sum(axis=1)\n",
    "                )\n",
    "        Evec = Evec + newE - newI\n",
    "        Evec = (Evec \n",
    "               + np.matmul(Evec.reshape(1,n), realOD)\n",
    "               - Evec * realOD.sum(axis=1)\n",
    "                )\n",
    "                \n",
    "        Ivec = Ivec + newI - newR\n",
    "        Ivec = (Ivec \n",
    "               + np.matmul(Ivec.reshape(1,n), realOD)\n",
    "               - Ivec * realOD.sum(axis=1)\n",
    "                )\n",
    "                \n",
    "        Rvec += newR\n",
    "        Rvec = (Rvec \n",
    "               + np.matmul(Rvec.reshape(1,n), realOD)\n",
    "               - Rvec * realOD.sum(axis=1)\n",
    "                )\n",
    "                \n",
    "        res[iter + 1,:] = [Svec.sum(), Evec.sum(), Ivec.sum(), Rvec.sum(), 0]\n",
    "        eachIter[iter + 1] = newI.sum()\n",
    "        res[iter + 1, 4] = eachIter[max(0, iter - par.HospiterIters) : iter].sum() * par.HospitalisationRate\n",
    "        \n",
    "        history[iter + 1,0,:] = Svec\n",
    "        history[iter + 1,1,:] = Evec\n",
    "        history[iter + 1,2,:] = Ivec\n",
    "        history[iter + 1,3,:] = Rvec\n",
    "        \n",
    "        \n",
    "    return res, history"
   ]
  },
  {
   "cell_type": "code",
   "execution_count": null,
   "metadata": {},
   "outputs": [],
   "source": []
  }
 ],
 "metadata": {
  "kernelspec": {
   "display_name": "Python 3",
   "language": "python",
   "name": "python3"
  },
  "language_info": {
   "codemirror_mode": {
    "name": "ipython",
    "version": 3
   },
   "file_extension": ".py",
   "mimetype": "text/x-python",
   "name": "python",
   "nbconvert_exporter": "python",
   "pygments_lexer": "ipython3",
   "version": "3.7.6"
  }
 },
 "nbformat": 4,
 "nbformat_minor": 2
}
