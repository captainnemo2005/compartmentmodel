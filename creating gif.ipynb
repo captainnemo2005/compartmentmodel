{
 "cells": [
  {
   "cell_type": "code",
   "execution_count": 3,
   "metadata": {},
   "outputs": [],
   "source": [
    "import glob\n",
    "from PIL import Image\n",
    "\n",
    "# filepaths\n",
    "fp_in = \"/Users/cptnemo2005/Desktop/SEIR/Plots/base_school_closure_*.jpg\"\n",
    "fp_out = \"/Users/cptnemo2005/Desktop/SEIR/gif/image.gif\"\n",
    "\n",
    "# https://pillow.readthedocs.io/en/stable/handbook/image-file-formats.html#gif\n",
    "img, *imgs = [Image.open(f) for f in sorted(glob.glob(fp_in))]\n",
    "img.save(fp=fp_out, format='GIF', append_images=imgs,\n",
    "         save_all=True, duration=0.2, loop=0)"
   ]
  },
  {
   "cell_type": "code",
   "execution_count": 4,
   "metadata": {},
   "outputs": [],
   "source": [
    "import datetime\n",
    "import matplotlib.pyplot as plt\n",
    "import matplotlib.dates as mdates\n",
    "import numpy as np"
   ]
  },
  {
   "cell_type": "code",
   "execution_count": null,
   "metadata": {},
   "outputs": [],
   "source": []
  },
  {
   "cell_type": "code",
   "execution_count": 49,
   "metadata": {},
   "outputs": [
    {
     "ename": "TypeError",
     "evalue": "'datetime.date' object cannot be interpreted as an integer",
     "output_type": "error",
     "traceback": [
      "\u001b[0;31m---------------------------------------------------------------------------\u001b[0m",
      "\u001b[0;31mTypeError\u001b[0m                                 Traceback (most recent call last)",
      "\u001b[0;32m<ipython-input-49-5570a7295419>\u001b[0m in \u001b[0;36m<module>\u001b[0;34m\u001b[0m\n\u001b[1;32m      6\u001b[0m \u001b[0mdelta\u001b[0m \u001b[0;34m=\u001b[0m \u001b[0medate\u001b[0m \u001b[0;34m-\u001b[0m \u001b[0msdate\u001b[0m       \u001b[0;31m# as timedelta\u001b[0m\u001b[0;34m\u001b[0m\u001b[0;34m\u001b[0m\u001b[0m\n\u001b[1;32m      7\u001b[0m \u001b[0;34m\u001b[0m\u001b[0m\n\u001b[0;32m----> 8\u001b[0;31m \u001b[0mdates\u001b[0m \u001b[0;34m=\u001b[0m \u001b[0;34m[\u001b[0m\u001b[0mx\u001b[0m \u001b[0;32mfor\u001b[0m \u001b[0mx\u001b[0m \u001b[0;32min\u001b[0m \u001b[0mrange\u001b[0m\u001b[0;34m(\u001b[0m\u001b[0msdate\u001b[0m\u001b[0;34m,\u001b[0m\u001b[0medate\u001b[0m\u001b[0;34m)\u001b[0m\u001b[0;34m]\u001b[0m\u001b[0;34m\u001b[0m\u001b[0;34m\u001b[0m\u001b[0m\n\u001b[0m",
      "\u001b[0;31mTypeError\u001b[0m: 'datetime.date' object cannot be interpreted as an integer"
     ]
    }
   ],
   "source": [
    "from datetime import date, timedelta\n",
    "\n",
    "sdate = date(2020, 6, 9)   # start date\n",
    "edate = date(2020, 8, 30)   # end date\n",
    "\n",
    "delta = edate - sdate       # as timedelta\n",
    "\n",
    "for i in range(delta.days + 1):\n",
    "    day = sdate + timedelta(days=i)\n",
    "    dates.append(day.strftime(\"%m/%d/%Y\"))\n",
    "print(dates)   "
   ]
  },
  {
   "cell_type": "code",
   "execution_count": 47,
   "metadata": {},
   "outputs": [
    {
     "ename": "TypeError",
     "evalue": "strptime() argument 1 must be str, not datetime.date",
     "output_type": "error",
     "traceback": [
      "\u001b[0;31m---------------------------------------------------------------------------\u001b[0m",
      "\u001b[0;31mTypeError\u001b[0m                                 Traceback (most recent call last)",
      "\u001b[0;32m<ipython-input-47-9d43fb1e2c1c>\u001b[0m in \u001b[0;36m<module>\u001b[0;34m\u001b[0m\n\u001b[0;32m----> 1\u001b[0;31m \u001b[0mx_values\u001b[0m \u001b[0;34m=\u001b[0m \u001b[0;34m[\u001b[0m\u001b[0mdatetime\u001b[0m\u001b[0;34m.\u001b[0m\u001b[0mstrptime\u001b[0m\u001b[0;34m(\u001b[0m\u001b[0md\u001b[0m\u001b[0;34m,\u001b[0m\u001b[0;34m\"%m/%d/%Y\"\u001b[0m\u001b[0;34m)\u001b[0m\u001b[0;34m.\u001b[0m\u001b[0mdate\u001b[0m\u001b[0;34m(\u001b[0m\u001b[0;34m)\u001b[0m \u001b[0;32mfor\u001b[0m \u001b[0md\u001b[0m \u001b[0;32min\u001b[0m \u001b[0mdates\u001b[0m\u001b[0;34m]\u001b[0m\u001b[0;34m\u001b[0m\u001b[0;34m\u001b[0m\u001b[0m\n\u001b[0m\u001b[1;32m      2\u001b[0m real_data = np.array([\n\u001b[1;32m      3\u001b[0m     \u001b[0;36m2\u001b[0m\u001b[0;34m,\u001b[0m\u001b[0;36m9\u001b[0m\u001b[0;34m,\u001b[0m\u001b[0;36m9\u001b[0m\u001b[0;34m,\u001b[0m\u001b[0;36m5\u001b[0m\u001b[0;34m,\u001b[0m\u001b[0;36m12\u001b[0m\u001b[0;34m,\u001b[0m\u001b[0;36m18\u001b[0m\u001b[0;34m,\u001b[0m\u001b[0;36m15\u001b[0m\u001b[0;34m,\u001b[0m\u001b[0;36m12\u001b[0m\u001b[0;34m,\u001b[0m\u001b[0;36m23\u001b[0m\u001b[0;34m,\u001b[0m\u001b[0;36m21\u001b[0m\u001b[0;34m,\u001b[0m\u001b[0;36m18\u001b[0m\u001b[0;34m,\u001b[0m\u001b[0;36m27\u001b[0m\u001b[0;34m,\u001b[0m\u001b[0;36m2\u001b[0m\u001b[0;34m,\u001b[0m\u001b[0;36m13\u001b[0m\u001b[0;34m,\u001b[0m\u001b[0;36m18\u001b[0m\u001b[0;34m,\u001b[0m\u001b[0;36m29\u001b[0m\u001b[0;34m,\u001b[0m\u001b[0;36m37\u001b[0m\u001b[0;34m,\u001b[0m\u001b[0;36m37\u001b[0m\u001b[0;34m,\u001b[0m\u001b[0;36m46\u001b[0m\u001b[0;34m,\u001b[0m\u001b[0;36m45\u001b[0m\u001b[0;34m,\u001b[0m\u001b[0;36m81\u001b[0m\u001b[0;34m,\u001b[0m\u001b[0;36m67\u001b[0m\u001b[0;34m,\u001b[0m\u001b[0;36m86\u001b[0m\u001b[0;34m,\u001b[0m\u001b[0;36m81\u001b[0m\u001b[0;34m,\u001b[0m\u001b[0;36m254\u001b[0m\u001b[0;34m,\u001b[0m\u001b[0;36m107\u001b[0m\u001b[0;34m,\u001b[0m\u001b[0;36m87\u001b[0m\u001b[0;34m,\u001b[0m\u001b[0;36m137\u001b[0m\u001b[0;34m,\u001b[0m\u001b[0;36m169\u001b[0m\u001b[0;34m,\u001b[0m\u001b[0;36m131\u001b[0m\u001b[0;34m,\u001b[0m\u001b[0;36m173\u001b[0m\u001b[0;34m,\u001b[0m\u001b[0;36m300\u001b[0m\u001b[0;34m,\u001b[0m\u001b[0;36m194\u001b[0m\u001b[0;34m,\u001b[0m\u001b[0;36m244\u001b[0m\u001b[0;34m,\u001b[0m\u001b[0;36m183\u001b[0m\u001b[0;34m,\u001b[0m\u001b[0;36m271\u001b[0m\u001b[0;34m,\u001b[0m\u001b[0;36m244\u001b[0m\u001b[0;34m,\u001b[0m\u001b[0;36m315\u001b[0m\u001b[0;34m,\u001b[0m\u001b[0;34m\u001b[0m\u001b[0;34m\u001b[0m\u001b[0m\n\u001b[1;32m      4\u001b[0m     \u001b[0;36m425\u001b[0m\u001b[0;34m,\u001b[0m\u001b[0;36m206\u001b[0m\u001b[0;34m,\u001b[0m\u001b[0;36m361\u001b[0m\u001b[0;34m,\u001b[0m\u001b[0;36m267\u001b[0m\u001b[0;34m,\u001b[0m\u001b[0;36m468\u001b[0m\u001b[0;34m,\u001b[0m\u001b[0;36m410\u001b[0m\u001b[0;34m,\u001b[0m\u001b[0;36m289\u001b[0m\u001b[0;34m,\u001b[0m\u001b[0;36m355\u001b[0m\u001b[0;34m,\u001b[0m\u001b[0;36m453\u001b[0m\u001b[0;34m,\u001b[0m\u001b[0;36m532\u001b[0m\u001b[0;34m,\u001b[0m\u001b[0;36m369\u001b[0m\u001b[0;34m,\u001b[0m\u001b[0;36m278\u001b[0m\u001b[0;34m,\u001b[0m\u001b[0;36m721\u001b[0m\u001b[0;34m,\u001b[0m\u001b[0;36m602\u001b[0m\u001b[0;34m,\u001b[0m\u001b[0;36m377\u001b[0m\u001b[0;34m,\u001b[0m\u001b[0;36m641\u001b[0m\u001b[0;34m,\u001b[0m\u001b[0;36m395\u001b[0m\u001b[0;34m,\u001b[0m\u001b[0;36m411\u001b[0m\u001b[0;34m,\u001b[0m\u001b[0;36m715\u001b[0m\u001b[0;34m,\u001b[0m\u001b[0;36m418\u001b[0m\u001b[0;34m,\u001b[0m\u001b[0;36m410\u001b[0m\u001b[0;34m,\u001b[0m\u001b[0;36m426\u001b[0m\u001b[0;34m,\u001b[0m\u001b[0;36m386\u001b[0m\u001b[0;34m,\u001b[0m\u001b[0;36m313\u001b[0m\u001b[0;34m,\u001b[0m\u001b[0;36m316\u001b[0m\u001b[0;34m,\u001b[0m\u001b[0;36m414\u001b[0m\u001b[0;34m,\u001b[0m\u001b[0;36m231\u001b[0m\u001b[0;34m,\u001b[0m\u001b[0;36m385\u001b[0m\u001b[0;34m,\u001b[0m\u001b[0;36m292\u001b[0m\u001b[0;34m,\u001b[0m\u001b[0;36m253\u001b[0m\u001b[0;34m,\u001b[0m\u001b[0;34m\u001b[0m\u001b[0;34m\u001b[0m\u001b[0m\n\u001b[1;32m      5\u001b[0m     \u001b[0;36m271\u001b[0m\u001b[0;34m,\u001b[0m\u001b[0;36m214\u001b[0m\u001b[0;34m,\u001b[0m\u001b[0;36m220\u001b[0m\u001b[0;34m,\u001b[0m\u001b[0;36m243\u001b[0m\u001b[0;34m,\u001b[0m\u001b[0;36m171\u001b[0m\u001b[0;34m,\u001b[0m\u001b[0;36m195\u001b[0m\u001b[0;34m,\u001b[0m\u001b[0;36m210\u001b[0m\u001b[0;34m,\u001b[0m\u001b[0;36m104\u001b[0m\u001b[0;34m,\u001b[0m\u001b[0;36m137\u001b[0m\u001b[0;34m,\u001b[0m\u001b[0;36m152\u001b[0m\u001b[0;34m,\u001b[0m\u001b[0;36m117\u001b[0m\u001b[0;34m,\u001b[0m\u001b[0;36m126\u001b[0m\u001b[0;34m,\u001b[0m\u001b[0;36m99\u001b[0m\u001b[0;34m,\u001b[0m\u001b[0;36m123\u001b[0m\u001b[0;34m\u001b[0m\u001b[0;34m\u001b[0m\u001b[0m\n",
      "\u001b[0;32m<ipython-input-47-9d43fb1e2c1c>\u001b[0m in \u001b[0;36m<listcomp>\u001b[0;34m(.0)\u001b[0m\n\u001b[0;32m----> 1\u001b[0;31m \u001b[0mx_values\u001b[0m \u001b[0;34m=\u001b[0m \u001b[0;34m[\u001b[0m\u001b[0mdatetime\u001b[0m\u001b[0;34m.\u001b[0m\u001b[0mstrptime\u001b[0m\u001b[0;34m(\u001b[0m\u001b[0md\u001b[0m\u001b[0;34m,\u001b[0m\u001b[0;34m\"%m/%d/%Y\"\u001b[0m\u001b[0;34m)\u001b[0m\u001b[0;34m.\u001b[0m\u001b[0mdate\u001b[0m\u001b[0;34m(\u001b[0m\u001b[0;34m)\u001b[0m \u001b[0;32mfor\u001b[0m \u001b[0md\u001b[0m \u001b[0;32min\u001b[0m \u001b[0mdates\u001b[0m\u001b[0;34m]\u001b[0m\u001b[0;34m\u001b[0m\u001b[0;34m\u001b[0m\u001b[0m\n\u001b[0m\u001b[1;32m      2\u001b[0m real_data = np.array([\n\u001b[1;32m      3\u001b[0m     \u001b[0;36m2\u001b[0m\u001b[0;34m,\u001b[0m\u001b[0;36m9\u001b[0m\u001b[0;34m,\u001b[0m\u001b[0;36m9\u001b[0m\u001b[0;34m,\u001b[0m\u001b[0;36m5\u001b[0m\u001b[0;34m,\u001b[0m\u001b[0;36m12\u001b[0m\u001b[0;34m,\u001b[0m\u001b[0;36m18\u001b[0m\u001b[0;34m,\u001b[0m\u001b[0;36m15\u001b[0m\u001b[0;34m,\u001b[0m\u001b[0;36m12\u001b[0m\u001b[0;34m,\u001b[0m\u001b[0;36m23\u001b[0m\u001b[0;34m,\u001b[0m\u001b[0;36m21\u001b[0m\u001b[0;34m,\u001b[0m\u001b[0;36m18\u001b[0m\u001b[0;34m,\u001b[0m\u001b[0;36m27\u001b[0m\u001b[0;34m,\u001b[0m\u001b[0;36m2\u001b[0m\u001b[0;34m,\u001b[0m\u001b[0;36m13\u001b[0m\u001b[0;34m,\u001b[0m\u001b[0;36m18\u001b[0m\u001b[0;34m,\u001b[0m\u001b[0;36m29\u001b[0m\u001b[0;34m,\u001b[0m\u001b[0;36m37\u001b[0m\u001b[0;34m,\u001b[0m\u001b[0;36m37\u001b[0m\u001b[0;34m,\u001b[0m\u001b[0;36m46\u001b[0m\u001b[0;34m,\u001b[0m\u001b[0;36m45\u001b[0m\u001b[0;34m,\u001b[0m\u001b[0;36m81\u001b[0m\u001b[0;34m,\u001b[0m\u001b[0;36m67\u001b[0m\u001b[0;34m,\u001b[0m\u001b[0;36m86\u001b[0m\u001b[0;34m,\u001b[0m\u001b[0;36m81\u001b[0m\u001b[0;34m,\u001b[0m\u001b[0;36m254\u001b[0m\u001b[0;34m,\u001b[0m\u001b[0;36m107\u001b[0m\u001b[0;34m,\u001b[0m\u001b[0;36m87\u001b[0m\u001b[0;34m,\u001b[0m\u001b[0;36m137\u001b[0m\u001b[0;34m,\u001b[0m\u001b[0;36m169\u001b[0m\u001b[0;34m,\u001b[0m\u001b[0;36m131\u001b[0m\u001b[0;34m,\u001b[0m\u001b[0;36m173\u001b[0m\u001b[0;34m,\u001b[0m\u001b[0;36m300\u001b[0m\u001b[0;34m,\u001b[0m\u001b[0;36m194\u001b[0m\u001b[0;34m,\u001b[0m\u001b[0;36m244\u001b[0m\u001b[0;34m,\u001b[0m\u001b[0;36m183\u001b[0m\u001b[0;34m,\u001b[0m\u001b[0;36m271\u001b[0m\u001b[0;34m,\u001b[0m\u001b[0;36m244\u001b[0m\u001b[0;34m,\u001b[0m\u001b[0;36m315\u001b[0m\u001b[0;34m,\u001b[0m\u001b[0;34m\u001b[0m\u001b[0;34m\u001b[0m\u001b[0m\n\u001b[1;32m      4\u001b[0m     \u001b[0;36m425\u001b[0m\u001b[0;34m,\u001b[0m\u001b[0;36m206\u001b[0m\u001b[0;34m,\u001b[0m\u001b[0;36m361\u001b[0m\u001b[0;34m,\u001b[0m\u001b[0;36m267\u001b[0m\u001b[0;34m,\u001b[0m\u001b[0;36m468\u001b[0m\u001b[0;34m,\u001b[0m\u001b[0;36m410\u001b[0m\u001b[0;34m,\u001b[0m\u001b[0;36m289\u001b[0m\u001b[0;34m,\u001b[0m\u001b[0;36m355\u001b[0m\u001b[0;34m,\u001b[0m\u001b[0;36m453\u001b[0m\u001b[0;34m,\u001b[0m\u001b[0;36m532\u001b[0m\u001b[0;34m,\u001b[0m\u001b[0;36m369\u001b[0m\u001b[0;34m,\u001b[0m\u001b[0;36m278\u001b[0m\u001b[0;34m,\u001b[0m\u001b[0;36m721\u001b[0m\u001b[0;34m,\u001b[0m\u001b[0;36m602\u001b[0m\u001b[0;34m,\u001b[0m\u001b[0;36m377\u001b[0m\u001b[0;34m,\u001b[0m\u001b[0;36m641\u001b[0m\u001b[0;34m,\u001b[0m\u001b[0;36m395\u001b[0m\u001b[0;34m,\u001b[0m\u001b[0;36m411\u001b[0m\u001b[0;34m,\u001b[0m\u001b[0;36m715\u001b[0m\u001b[0;34m,\u001b[0m\u001b[0;36m418\u001b[0m\u001b[0;34m,\u001b[0m\u001b[0;36m410\u001b[0m\u001b[0;34m,\u001b[0m\u001b[0;36m426\u001b[0m\u001b[0;34m,\u001b[0m\u001b[0;36m386\u001b[0m\u001b[0;34m,\u001b[0m\u001b[0;36m313\u001b[0m\u001b[0;34m,\u001b[0m\u001b[0;36m316\u001b[0m\u001b[0;34m,\u001b[0m\u001b[0;36m414\u001b[0m\u001b[0;34m,\u001b[0m\u001b[0;36m231\u001b[0m\u001b[0;34m,\u001b[0m\u001b[0;36m385\u001b[0m\u001b[0;34m,\u001b[0m\u001b[0;36m292\u001b[0m\u001b[0;34m,\u001b[0m\u001b[0;36m253\u001b[0m\u001b[0;34m,\u001b[0m\u001b[0;34m\u001b[0m\u001b[0;34m\u001b[0m\u001b[0m\n\u001b[1;32m      5\u001b[0m     \u001b[0;36m271\u001b[0m\u001b[0;34m,\u001b[0m\u001b[0;36m214\u001b[0m\u001b[0;34m,\u001b[0m\u001b[0;36m220\u001b[0m\u001b[0;34m,\u001b[0m\u001b[0;36m243\u001b[0m\u001b[0;34m,\u001b[0m\u001b[0;36m171\u001b[0m\u001b[0;34m,\u001b[0m\u001b[0;36m195\u001b[0m\u001b[0;34m,\u001b[0m\u001b[0;36m210\u001b[0m\u001b[0;34m,\u001b[0m\u001b[0;36m104\u001b[0m\u001b[0;34m,\u001b[0m\u001b[0;36m137\u001b[0m\u001b[0;34m,\u001b[0m\u001b[0;36m152\u001b[0m\u001b[0;34m,\u001b[0m\u001b[0;36m117\u001b[0m\u001b[0;34m,\u001b[0m\u001b[0;36m126\u001b[0m\u001b[0;34m,\u001b[0m\u001b[0;36m99\u001b[0m\u001b[0;34m,\u001b[0m\u001b[0;36m123\u001b[0m\u001b[0;34m\u001b[0m\u001b[0;34m\u001b[0m\u001b[0m\n",
      "\u001b[0;31mTypeError\u001b[0m: strptime() argument 1 must be str, not datetime.date"
     ]
    }
   ],
   "source": [
    "x_values = [datetime.strptime(d,\"%m/%d/%Y\").date() for d in dates]\n",
    "real_data = np.array([\n",
    "    2,9,9,5,12,18,15,12,23,21,18,27,2,13,18,29,37,37,46,45,81,67,86,81,254,107,87,137,169,131,173,300,194,244,183,271,244,315,\n",
    "    425,206,361,267,468,410,289,355,453,532,369,278,721,602,377,641,395,411,715,418,410,426,386,313,316,414,231,385,292,253,\n",
    "    271,214,220,243,171,195,210,104,137,152,117,126,99,123    \n",
    "])\n",
    "\n",
    "ax = plt.gca()\n",
    "\n",
    "\n",
    "formatter = mdates.DateFormatter(\"%Y-%m-%d\")\n",
    "\n",
    "ax.xaxis.set_major_formatter(formatter)\n",
    "\n",
    "locator = mdates.DayLocator()\n",
    "\n",
    "ax.xaxis.set_major_locator(locator)\n",
    "\n",
    "plt.plot(dates, y_values)"
   ]
  },
  {
   "cell_type": "code",
   "execution_count": 39,
   "metadata": {},
   "outputs": [],
   "source": []
  },
  {
   "cell_type": "code",
   "execution_count": 51,
   "metadata": {},
   "outputs": [
    {
     "name": "stdout",
     "output_type": "stream",
     "text": [
      "2008-08-15\n",
      "2008-08-16\n",
      "2008-08-17\n",
      "2008-08-18\n",
      "2008-08-19\n",
      "2008-08-20\n",
      "2008-08-21\n",
      "2008-08-22\n",
      "2008-08-23\n",
      "2008-08-24\n",
      "2008-08-25\n",
      "2008-08-26\n",
      "2008-08-27\n",
      "2008-08-28\n",
      "2008-08-29\n",
      "2008-08-30\n",
      "2008-08-31\n",
      "2008-09-01\n",
      "2008-09-02\n",
      "2008-09-03\n",
      "2008-09-04\n",
      "2008-09-05\n",
      "2008-09-06\n",
      "2008-09-07\n",
      "2008-09-08\n",
      "2008-09-09\n",
      "2008-09-10\n",
      "2008-09-11\n",
      "2008-09-12\n",
      "2008-09-13\n",
      "2008-09-14\n",
      "2008-09-15\n"
     ]
    }
   ],
   "source": [
    "from datetime import date, timedelta\n",
    "\n",
    "d1 = date(2008,8,15)\n",
    "d2 = date(2008,9,15)\n",
    "\n",
    "# this will give you a list containing all of the dates\n",
    "dd = [d1 + timedelta(days=x) for x in range((d2-d1).days + 1)]\n",
    "\n",
    "for d in dd:\n",
    "    print(d)"
   ]
  },
  {
   "cell_type": "code",
   "execution_count": null,
   "metadata": {},
   "outputs": [],
   "source": []
  }
 ],
 "metadata": {
  "kernelspec": {
   "display_name": "Python 3",
   "language": "python",
   "name": "python3"
  },
  "language_info": {
   "codemirror_mode": {
    "name": "ipython",
    "version": 3
   },
   "file_extension": ".py",
   "mimetype": "text/x-python",
   "name": "python",
   "nbconvert_exporter": "python",
   "pygments_lexer": "ipython3",
   "version": "3.7.6"
  }
 },
 "nbformat": 4,
 "nbformat_minor": 4
}
