{
 "cells": [
  {
   "cell_type": "code",
   "execution_count": 36,
   "metadata": {},
   "outputs": [
    {
     "data": {
      "text/plain": [
       "<Figure size 2880x2880 with 0 Axes>"
      ]
     },
     "metadata": {},
     "output_type": "display_data"
    }
   ],
   "source": [
    "import matplotlib.pyplot as plt\n",
    "import matplotlib.image as mpimg\n",
    "img = mpimg.imread('new_img.png')\n",
    "plt.figure(figsize=(40,40))\n",
    "imgplot = plt.imshow(img)\n",
    "#plt.imsave('img1.png',arr=img,(40,40))\n"
   ]
  },
  {
   "cell_type": "code",
   "execution_count": 54,
   "metadata": {},
   "outputs": [
    {
     "name": "stdout",
     "output_type": "stream",
     "text": [
      "2500 2500\n"
     ]
    }
   ],
   "source": [
    "from PIL import Image  \n",
    "  \n",
    "# Opens a image in RGB mode  \n",
    "im1 = Image.open('/Users/cptnemo2005/Desktop/testing.png')  \n",
    "  \n",
    "# Size of the image in pixels (size of orginal image)  \n",
    "# (This is not mandatory)  \n",
    "width, height = im.size  \n",
    "\n",
    "print(width,height)\n",
    "im1.show()  "
   ]
  },
  {
   "cell_type": "code",
   "execution_count": 53,
   "metadata": {},
   "outputs": [],
   "source": [
    "# Setting the points for cropped image  \n",
    "left = width/3\n",
    "top = height/4\n",
    "right = 2*width/3\n",
    "bottom = height\n",
    "  \n",
    "# Cropped image of above dimension  \n",
    "# (It will not change orginal image)  \n",
    "im1 = im.crop((left, top, right, bottom)) \n",
    "newsize = (1800, 1800) \n",
    "im1 = im1.resize(newsize) \n",
    "# Shows the image in image viewer  \n",
    "im1.show()  "
   ]
  },
  {
   "cell_type": "code",
   "execution_count": null,
   "metadata": {},
   "outputs": [],
   "source": []
  }
 ],
 "metadata": {
  "kernelspec": {
   "display_name": "Python 3",
   "language": "python",
   "name": "python3"
  },
  "language_info": {
   "codemirror_mode": {
    "name": "ipython",
    "version": 3
   },
   "file_extension": ".py",
   "mimetype": "text/x-python",
   "name": "python",
   "nbconvert_exporter": "python",
   "pygments_lexer": "ipython3",
   "version": "3.7.6"
  }
 },
 "nbformat": 4,
 "nbformat_minor": 4
}
