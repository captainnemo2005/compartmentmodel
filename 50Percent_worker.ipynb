{
 "cells": [
  {
   "cell_type": "code",
   "execution_count": 29,
   "metadata": {},
   "outputs": [],
   "source": [
    "import pandas as pd\n",
    "import matplotlib.pyplot as plt\n",
    "import numpy as np\n",
    "from numpy import genfromtxt\n",
    "\n",
    "melbourne = pd.read_csv('/Users/cptnemo2005/Desktop/SEIR/population_non_worker_75_mel.csv', sep=',',header=None)\n",
    "pop       = melbourne.values\n",
    "pop       = np.nan_to_num(pop, copy = True)\n",
    "pop       = pop.astype(int)\n",
    "\n",
    "od_matrix = genfromtxt('/Users/cptnemo2005/Desktop/SEIR/OD_Matrix_no_work_75.csv', delimiter=',')\n",
    "od_matrix = np.reshape(od_matrix, (12,309,309))\n",
    "od_matrix = np.nan_to_num(od_matrix, copy = True)\n",
    "od_matrix = od_matrix.astype(int)\n",
    "\n",
    "#At this point only have 25% for pop and flow, now we scale them up\n",
    "\n",
    "pop = pop*4\n",
    "od_matrix = od_matrix*4\n",
    "\n",
    "for i in range(1,12):\n",
    "    pop[i,:] = pop[0,:]\n",
    "\n",
    "to_this_origin   = np.sum(od_matrix,axis = 1)\n",
    "from_this_origin = np.sum(od_matrix,axis = 2)\n",
    "\n",
    "to_this_origin\n",
    "\n",
    "from_this_origin\n",
    "\n",
    "np.sum(pop,axis = 1)\n",
    "\n",
    "pop = pop + to_this_origin - from_this_origin"
   ]
  },
  {
   "cell_type": "code",
   "execution_count": 30,
   "metadata": {},
   "outputs": [
    {
     "data": {
      "text/plain": [
       "array([4237364, 4237364, 4237364, 4237364, 4237364, 4237364, 4237364,\n",
       "       4237364, 4237364, 4237364, 4237364, 4237364])"
      ]
     },
     "execution_count": 30,
     "metadata": {},
     "output_type": "execute_result"
    }
   ],
   "source": [
    "np.sum(pop,axis = 1)"
   ]
  },
  {
   "cell_type": "code",
   "execution_count": 33,
   "metadata": {},
   "outputs": [
    {
     "name": "stderr",
     "output_type": "stream",
     "text": [
      "/Users/cptnemo2005/Desktop/SEIR/virus-sim.py:56: RuntimeWarning: invalid value encountered in true_divide\n",
      "  res[0,:] = [Svec.sum(), Ivec.sum(), Rvec.sum(), 0]\n"
     ]
    }
   ],
   "source": [
    "import numpy as np\n",
    "import pickle \n",
    "import matplotlib.pyplot as plt\n",
    "def sir_plot(res):\n",
    "    plt.plot(res[::12,0], color='r',label='Susceptible')\n",
    "    plt.plot(res[::12,1], color='g',label='Infectous')\n",
    "    plt.plot(res[::12,2], color='b',label='Recovered')\n",
    "    plt.plot(res[::12,3], color='y',label='Hospital')     \n",
    "    plt.legend()\n",
    "\n",
    "from collections import namedtuple\n",
    "\n",
    "\n",
    "Param = namedtuple('Param', 'R0 DI I0 HospitalisationRate HospiterIters')\n",
    "r = od_matrix.shape[0]\n",
    "n = pop.shape[1]\n",
    "N = 4237364.0\n",
    "import random\n",
    "\n",
    "random.seed(30)\n",
    "\n",
    "\n",
    "OD_id = [p for p in range (0,309)]\n",
    "# Take 20 random location\n",
    "initialInd = random.sample(OD_id, 20)\n",
    "\n",
    "initial = np.zeros(n)\n",
    "#Each location has 10 people infected at the beginning\n",
    "initial[initialInd] = 15\n",
    "\n",
    "model = Param(R0 = 2.4, DI = 5.2*12, I0 = initial, HospitalisationRate=0.1,HospiterIters=15*12)\n",
    "\n",
    "%run virus-sim.py\n",
    "\n",
    "alpha = np.ones(od_matrix.shape)\n",
    "iterations = 3000\n",
    "res = {}\n",
    "inf = 10\n",
    "res['baseline'] = sir(model,pop,od_matrix,alpha,iterations,inf)"
   ]
  },
  {
   "cell_type": "code",
   "execution_count": 34,
   "metadata": {},
   "outputs": [
    {
     "name": "stdout",
     "output_type": "stream",
     "text": [
      "Max number of hospitalised people:  197575 \n",
      " Day with max hospitalised people:  58\n"
     ]
    },
    {
     "data": {
      "image/png": "[encoded data removed]",
      "text/plain": [
       "<Figure size 432x288 with 1 Axes>"
      ]
     },
     "metadata": {
      "needs_background": "light"
     },
     "output_type": "display_data"
    }
   ],
   "source": [
    "print(\n",
    "\"Max number of hospitalised people: \", int(res[\"baseline\"][0][:,3].max()),\n",
    "\"\\n\",\n",
    "\"Day with max hospitalised people: \", int(res[\"baseline\"][0][:,3].argmax()/12)\n",
    ")\n",
    "# plot result\n",
    "sir_plot(res[\"baseline\"][0])"
   ]
  },
  {
   "cell_type": "code",
   "execution_count": 28,
   "metadata": {},
   "outputs": [
    {
     "name": "stdout",
     "output_type": "stream",
     "text": [
      "(3000, 309)\n",
      "3700816.989909221\n"
     ]
    }
   ],
   "source": [
    "newI = res['baseline'][2]\n",
    "\n",
    "print(newI.shape)\n",
    "\n",
    "\n",
    "newI.astype(int)\n",
    "\n",
    "newI = np.sum(newI,axis=0)\n",
    "\n",
    "print(np.sum(newI))"
   ]
  },
  {
   "cell_type": "code",
   "execution_count": null,
   "metadata": {},
   "outputs": [],
   "source": []
  }
 ],
 "metadata": {
  "kernelspec": {
   "display_name": "Python 3",
   "language": "python",
   "name": "python3"
  },
  "language_info": {
   "codemirror_mode": {
    "name": "ipython",
    "version": 3
   },
   "file_extension": ".py",
   "mimetype": "text/x-python",
   "name": "python",
   "nbconvert_exporter": "python",
   "pygments_lexer": "ipython3",
   "version": "3.7.6"
  }
 },
 "nbformat": 4,
 "nbformat_minor": 4
}
