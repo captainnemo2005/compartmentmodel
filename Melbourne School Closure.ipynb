{
 "cells": [
  {
   "cell_type": "code",
   "execution_count": 1,
   "metadata": {},
   "outputs": [],
   "source": [
    "import pandas as pd\n",
    "import matplotlib.pyplot as plt\n",
    "import numpy as np\n",
    "from numpy import genfromtxt\n",
    "\n",
    "#population_basecase.csv\n",
    "#OD_Matrix_basecase.csv\n",
    "#population_school_closure.csv\n",
    "#OD_Matrix_school_closure.csv\n",
    "\n",
    "melbourne = pd.read_csv('/Users/cptnemo2005/Desktop/SEIR/population_basecase.csv', sep=',',header=None)\n",
    "pop       = melbourne.values\n",
    "pop       = np.nan_to_num(pop, copy = True)\n",
    "pop       = pop.astype(int)\n",
    "\n",
    "od_matrix = genfromtxt('/Users/cptnemo2005/Desktop/SEIR/OD_Matrix_basecase.csv', delimiter=',')\n",
    "od_matrix = np.reshape(od_matrix, (12,309,309))\n",
    "od_matrix = np.nan_to_num(od_matrix, copy = True)\n",
    "od_matrix = od_matrix.astype(int)\n",
    "\n",
    "#At this point only have 25% for pop and flow, now we scale them up\n",
    "\n",
    "pop = pop*4\n",
    "od_matrix = od_matrix*4\n",
    "\n",
    "for i in range(1,12):\n",
    "    pop[i,:] = pop[0,:]\n",
    "\n",
    "to_this_origin   = np.sum(od_matrix,axis = 1)\n",
    "from_this_origin = np.sum(od_matrix,axis = 2)\n",
    "\n",
    "to_this_origin\n",
    "\n",
    "from_this_origin\n",
    "\n",
    "np.sum(pop,axis = 1)\n",
    "\n",
    "pop = pop + to_this_origin - from_this_origin"
   ]
  },
  {
   "cell_type": "code",
   "execution_count": 2,
   "metadata": {},
   "outputs": [
    {
     "data": {
      "text/plain": [
       "array([4632672, 4632672, 4632672, 4632672, 4632672, 4632672, 4632672,\n",
       "       4632672, 4632672, 4632672, 4632672, 4632672])"
      ]
     },
     "execution_count": 2,
     "metadata": {},
     "output_type": "execute_result"
    }
   ],
   "source": [
    "np.sum(pop,axis = 1)"
   ]
  },
  {
   "cell_type": "code",
   "execution_count": 6,
   "metadata": {},
   "outputs": [
    {
     "name": "stderr",
     "output_type": "stream",
     "text": [
      "/Users/cptnemo2005/Desktop/SEIR/virus-sim.py:56: RuntimeWarning: invalid value encountered in true_divide\n",
      "  realflow = realflow / realflow.sum(axis=2)[:,:, np.newaxis]\n"
     ]
    },
    {
     "ename": "NameError",
     "evalue": "name 'res' is not defined",
     "output_type": "error",
     "traceback": [
      "\u001b[0;31m---------------------------------------------------------------------------\u001b[0m",
      "\u001b[0;31mNameError\u001b[0m                                 Traceback (most recent call last)",
      "\u001b[0;32m<ipython-input-6-41b1fb5ab2df>\u001b[0m in \u001b[0;36m<module>\u001b[0;34m\u001b[0m\n\u001b[1;32m     38\u001b[0m \u001b[0miterations\u001b[0m \u001b[0;34m=\u001b[0m \u001b[0;36m300\u001b[0m\u001b[0;34m\u001b[0m\u001b[0;34m\u001b[0m\u001b[0m\n\u001b[1;32m     39\u001b[0m \u001b[0minf\u001b[0m \u001b[0;34m=\u001b[0m \u001b[0;36m10\u001b[0m\u001b[0;34m\u001b[0m\u001b[0;34m\u001b[0m\u001b[0m\n\u001b[0;32m---> 40\u001b[0;31m \u001b[0mres\u001b[0m\u001b[0;34m[\u001b[0m\u001b[0;34m'baseline'\u001b[0m\u001b[0;34m]\u001b[0m \u001b[0;34m=\u001b[0m \u001b[0msir\u001b[0m\u001b[0;34m(\u001b[0m\u001b[0mmodel\u001b[0m\u001b[0;34m,\u001b[0m\u001b[0mpop\u001b[0m\u001b[0;34m,\u001b[0m\u001b[0mod_matrix\u001b[0m\u001b[0;34m,\u001b[0m\u001b[0malpha\u001b[0m\u001b[0;34m,\u001b[0m\u001b[0miterations\u001b[0m\u001b[0;34m,\u001b[0m\u001b[0minf\u001b[0m\u001b[0;34m)\u001b[0m\u001b[0;34m\u001b[0m\u001b[0;34m\u001b[0m\u001b[0m\n\u001b[0m\u001b[1;32m     41\u001b[0m \u001b[0;34m\u001b[0m\u001b[0m\n",
      "\u001b[0;31mNameError\u001b[0m: name 'res' is not defined"
     ]
    }
   ],
   "source": [
    "import numpy as np\n",
    "import pickle \n",
    "import matplotlib.pyplot as plt\n",
    "def sir_plot(res):\n",
    "    plt.plot(res[::12,0], color='r',label='Susceptible')\n",
    "    plt.plot(res[::12,1], color='g',label='Infectous')\n",
    "    plt.plot(res[::12,2], color='b',label='Recovered')\n",
    "    plt.plot(res[::12,3], color='y',label='Hospital')     \n",
    "    plt.legend()\n",
    "\n",
    "from collections import namedtuple\n",
    "\n",
    "\n",
    "Param = namedtuple('Param', 'R0 DI I0 HospitalisationRate HospiterIters')\n",
    "r = od_matrix.shape[0]\n",
    "n = pop.shape[1]\n",
    "N = 4632672.0\n",
    "import random\n",
    "\n",
    "random.seed(30)\n",
    "\n",
    "\n",
    "OD_id = [p for p in range (0,309)]\n",
    "# Take 20 random location\n",
    "initialInd = random.sample(OD_id, 20)\n",
    "\n",
    "initial = np.zeros(n)\n",
    "#Each location has 10 people infected at the beginning\n",
    "initial[initialInd] = 15\n",
    "\n",
    "#changing to 14 days of incubation\n",
    "\n",
    "model = Param(R0 = 2.4, DI = 5.2*12, I0 = initial, HospitalisationRate=0.1,HospiterIters=15*12)\n",
    "\n",
    "%run virus-sim.py\n",
    "\n",
    "alpha = np.ones(od_matrix.shape)\n",
    "iterations = 300\n",
    "inf = 10\n",
    "res['baseline'] = sir(model,pop,od_matrix,alpha,iterations,inf)\n",
    "\n"
   ]
  },
  {
   "cell_type": "code",
   "execution_count": null,
   "metadata": {},
   "outputs": [],
   "source": []
  }
 ],
 "metadata": {
  "kernelspec": {
   "display_name": "Python 3",
   "language": "python",
   "name": "python3"
  },
  "language_info": {
   "codemirror_mode": {
    "name": "ipython",
    "version": 3
   },
   "file_extension": ".py",
   "mimetype": "text/x-python",
   "name": "python",
   "nbconvert_exporter": "python",
   "pygments_lexer": "ipython3",
   "version": "3.7.6"
  }
 },
 "nbformat": 4,
 "nbformat_minor": 4
}
