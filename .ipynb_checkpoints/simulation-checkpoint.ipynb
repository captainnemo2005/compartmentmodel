{
 "cells": [
  {
   "cell_type": "code",
   "execution_count": 1,
   "metadata": {},
   "outputs": [],
   "source": [
    "import numpy as np\n",
    "import pickle \n",
    "import matplotlib.pyplot as plt"
   ]
  },
  {
   "cell_type": "code",
   "execution_count": 2,
   "metadata": {},
   "outputs": [],
   "source": [
    "def sir_plot(res):\n",
    "    plt.plot(res[::12,0], color='r',label='S')\n",
    "    plt.plot(res[::12,1], color='g',label='I')\n",
    "    plt.plot(res[::12,2], color='b',label='R')\n",
    "    plt.plot(res[::12,3], color='y',label='H')     \n",
    "    plt.legend()"
   ]
  },
  {
   "cell_type": "code",
   "execution_count": 3,
   "metadata": {},
   "outputs": [
    {
     "name": "stdout",
     "output_type": "stream",
     "text": [
      "(84, 549, 549)\n"
     ]
    }
   ],
   "source": [
    "pkl_file = open('Yerevan_OD_matrices.pkl','rb')\n",
    "OD_matrices = pickle.load(pkl_file)\n",
    "pkl_file.close()\n",
    "print(OD_matrices.shape)"
   ]
  },
  {
   "cell_type": "code",
   "execution_count": 4,
   "metadata": {},
   "outputs": [
    {
     "name": "stdout",
     "output_type": "stream",
     "text": [
      "(84, 549)\n"
     ]
    }
   ],
   "source": [
    "np.set_printoptions(suppress=True, precision=3)\n",
    "\n",
    "pkl_file=open('Yerevan_population.pkl', 'rb')\n",
    "pop = pickle.load(pkl_file)\n",
    "pkl_file.close()\n",
    "print(pop.shape)"
   ]
  },
  {
   "cell_type": "code",
   "execution_count": 5,
   "metadata": {},
   "outputs": [],
   "source": [
    "a = np.sum(pop, axis=1)"
   ]
  },
  {
   "cell_type": "code",
   "execution_count": 6,
   "metadata": {},
   "outputs": [],
   "source": [
    "from collections import namedtuple\n",
    "\n",
    "\n",
    "Param = namedtuple('Param', 'R0 DI I0 HospitalisationRate HospiterIters')\n",
    "r = OD_matrices.shape[0]\n",
    "n = pop.shape[1]\n",
    "N = 1000000.0\n",
    "\n",
    "initialInd = [334,353,196,445,162,297]\n",
    "initial = np.zeros(n)\n",
    "initial[initialInd] = 50\n",
    "\n",
    "model = Param(R0 = 2.4, DI = 5.2*12, I0 = initial, HospitalisationRate=0.1,HospiterIters=15*12)"
   ]
  },
  {
   "cell_type": "code",
   "execution_count": 13,
   "metadata": {},
   "outputs": [],
   "source": [
    "%run virus-sim.py"
   ]
  },
  {
   "cell_type": "code",
   "execution_count": 14,
   "metadata": {},
   "outputs": [
    {
     "name": "stdout",
     "output_type": "stream",
     "text": [
      "11.443998570123533 \n",
      "\n",
      "9.463620083224601 \n",
      "\n",
      "13.611042007893907 \n",
      "\n",
      "15.144186439758052 \n",
      "\n",
      "15.700022203682392 \n",
      "\n",
      "14.734115658618876 \n",
      "\n",
      "12.940292829368166 \n",
      "\n",
      "12.435752856472476 \n",
      "\n",
      "14.84119743694466 \n",
      "\n",
      "16.643464851858 \n",
      "\n",
      "16.6225750469668 \n",
      "\n",
      "15.952038032567213 \n",
      "\n",
      "15.320893277690379 \n",
      "\n",
      "12.487596969621883 \n",
      "\n",
      "18.488178045358843 \n",
      "\n",
      "20.699218087390364 \n",
      "\n",
      "21.50723561604656 \n",
      "\n",
      "20.169163103663575 \n",
      "\n",
      "17.387268948856562 \n",
      "\n",
      "16.344935938928778 \n",
      "\n",
      "20.04295569787857 \n",
      "\n",
      "22.782469106527365 \n",
      "\n",
      "22.647860593381 \n",
      "\n",
      "21.737309228963703 \n",
      "\n",
      "20.536538426633122 \n",
      "\n",
      "16.47620806537004 \n",
      "\n",
      "25.153513195413453 \n",
      "\n",
      "28.332811732439694 \n",
      "\n",
      "29.500332970433448 \n",
      "\n",
      "27.65314923386792 \n",
      "\n",
      "23.3782162673725 \n",
      "\n",
      "21.457130103928495 \n",
      "\n",
      "27.082940085385474 \n",
      "\n",
      "31.208723142993694 \n",
      "\n",
      "30.8716076889366 \n",
      "\n",
      "29.63338250635713 \n",
      "\n",
      "27.519922009469397 \n",
      "\n",
      "21.710598342347442 \n",
      "\n",
      "34.21002505147674 \n",
      "\n",
      "38.7524644750612 \n",
      "\n",
      "40.41868804052238 \n",
      "\n",
      "37.87566125259522 \n",
      "\n",
      "31.38951378755536 \n",
      "\n",
      "28.092544868357724 \n",
      "\n",
      "36.53162444734612 \n",
      "\n",
      "42.65810728613972 \n",
      "\n",
      "41.97895341285813 \n",
      "\n",
      "40.29051091042021 \n",
      "\n",
      "36.77421428309282 \n",
      "\n",
      "28.516662687830667 \n",
      "\n",
      "46.36250429935474 \n",
      "\n",
      "52.7776386710446 \n",
      "\n",
      "55.1045050439082 \n",
      "\n",
      "51.60990691218159 \n",
      "\n",
      "41.94689404127002 \n",
      "\n",
      "36.59806188516122 \n",
      "\n",
      "49.0098470762059 \n",
      "\n",
      "57.915893486721686 \n",
      "\n",
      "56.685381860509274 \n",
      "\n",
      "54.37363065834287 \n",
      "\n",
      "40.575790619195494 \n",
      "\n",
      "40.860834940889575 \n",
      "\n",
      "72.99537641589009 \n",
      "\n",
      "71.96657278947058 \n",
      "\n",
      "69.49406133281363 \n",
      "\n",
      "65.84018666290841 \n",
      "\n",
      "47.524908270854496 \n",
      "\n",
      "49.564212950705766 \n",
      "\n",
      "78.04169086599715 \n",
      "\n",
      "75.99315158079568 \n",
      "\n",
      "78.02137077924098 \n",
      "\n",
      "72.66056581660897 \n",
      "\n",
      "52.666038665015705 \n",
      "\n",
      "53.41528252598174 \n",
      "\n",
      "97.62069052824779 \n",
      "\n",
      "95.93793430531096 \n",
      "\n",
      "92.50908539929594 \n",
      "\n",
      "86.91022150806972 \n",
      "\n",
      "61.22057341220772 \n",
      "\n",
      "63.77487819351761 \n",
      "\n",
      "103.0556735146928 \n",
      "\n",
      "99.7620095307805 \n",
      "\n",
      "102.47113162218699 \n",
      "\n",
      "94.79503252645898 \n",
      "\n",
      "82.6991811667272 \n",
      "\n",
      "61.45420111390658 \n",
      "\n",
      "107.3109673438827 \n",
      "\n",
      "122.9928748863538 \n",
      "\n",
      "127.73311127553691 \n",
      "\n",
      "118.69328678610708 \n",
      "\n",
      "92.25243022204504 \n",
      "\n",
      "75.7931239545927 \n",
      "\n",
      "108.10517850463583 \n",
      "\n",
      "129.86817733653285 \n",
      "\n",
      "124.92764958426545 \n",
      "\n",
      "118.89000636816739 \n",
      "\n",
      "103.08442369782611 \n",
      "\n",
      "76.45216596409465 \n",
      "\n",
      "133.63308859588182 \n",
      "\n"
     ]
    }
   ],
   "source": [
    "alpha = np.ones(OD_matrices.shape)\n",
    "iterations = 3000\n",
    "res = {}\n",
    "inf = 50\n",
    "res['baseline'] = sir(model,pop,OD_matrices,alpha,iterations,inf)"
   ]
  },
  {
   "cell_type": "code",
   "execution_count": 15,
   "metadata": {},
   "outputs": [
    {
     "name": "stdout",
     "output_type": "stream",
     "text": [
      "Max number of hospitalised people:  484 \n",
      " Day with max hospitalised people:  8\n"
     ]
    },
    {
     "data": {
      "image/png": "[encoded data removed]",
      "text/plain": [
       "<Figure size 432x288 with 1 Axes>"
      ]
     },
     "metadata": {
      "needs_background": "light"
     },
     "output_type": "display_data"
    }
   ],
   "source": [
    "print(\n",
    "\"Max number of hospitalised people: \", int(res[\"baseline\"][0][:,3].max()),\n",
    "\"\\n\",\n",
    "\"Day with max hospitalised people: \", int(res[\"baseline\"][0][:,3].argmax()/12)\n",
    ")\n",
    "# plot result\n",
    "sir_plot(res[\"baseline\"][0])"
   ]
  },
  {
   "cell_type": "code",
   "execution_count": 25,
   "metadata": {},
   "outputs": [
    {
     "name": "stdout",
     "output_type": "stream",
     "text": [
      "3920783.531080675\n"
     ]
    }
   ],
   "source": [
    "print(I.sum())"
   ]
  },
  {
   "cell_type": "code",
   "execution_count": null,
   "metadata": {},
   "outputs": [],
   "source": []
  }
 ],
 "metadata": {
  "kernelspec": {
   "display_name": "Python 3",
   "language": "python",
   "name": "python3"
  },
  "language_info": {
   "codemirror_mode": {
    "name": "ipython",
    "version": 3
   },
   "file_extension": ".py",
   "mimetype": "text/x-python",
   "name": "python",
   "nbconvert_exporter": "python",
   "pygments_lexer": "ipython3",
   "version": "3.7.6"
  }
 },
 "nbformat": 4,
 "nbformat_minor": 4
}
