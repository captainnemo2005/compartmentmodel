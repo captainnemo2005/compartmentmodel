{
 "cells": [
  {
   "cell_type": "code",
   "execution_count": 44,
   "metadata": {},
   "outputs": [],
   "source": [
    "import pandas as pd\n",
    "import matplotlib.pyplot as plt\n",
    "import numpy as np\n",
    "from numpy import genfromtxt\n",
    "\"\"\"\n",
    "OD_Matrix_pc_75.csv\n",
    "population_pt_75.csv\n",
    "OD_Matrix_pt_75.csv\n",
    "population_pc_75.csv\n",
    "population.csv\n",
    "\"\"\"\n",
    "percent_pop = \"5km\"\n",
    "folder = \"5km\"\n",
    "incubation = 7\n",
    "\n",
    "melbourne_pc = pd.read_csv('data-new/'+folder+'/population_pc_'+percent_pop+'.csv', sep=',',header=None)\n",
    "pop_pc       = melbourne_pc.values\n",
    "pop_pc       = np.nan_to_num(pop_pc, copy = True)\n",
    "pop_pc       = pop_pc.astype(int)\n",
    "\n",
    "od_matrix_pc = genfromtxt('data-new/'+folder+'/OD_Matrix_pc_'+percent_pop+'.csv', delimiter=',')\n",
    "od_matrix_pc = np.reshape(od_matrix_pc, (12,309,309))\n",
    "od_matrix_pc = np.nan_to_num(od_matrix_pc, copy = True)\n",
    "od_matrix_pc = od_matrix_pc.astype(int)\n",
    "\n",
    "melbourne_pt = pd.read_csv('data-new/'+folder+'/population_pt_'+percent_pop+'.csv', sep=',',header=None)\n",
    "pop_pt       = melbourne_pt.values\n",
    "pop_pt       = np.nan_to_num(pop_pt, copy = True)\n",
    "pop_pt       = pop_pt.astype(int)\n",
    "\n",
    "od_matrix_pt = genfromtxt('data-new/'+folder+'/OD_Matrix_pt_'+percent_pop+'.csv', delimiter=',')\n",
    "od_matrix_pt = np.reshape(od_matrix_pt, (12,309,309))\n",
    "od_matrix_pt = np.nan_to_num(od_matrix_pt, copy = True)\n",
    "od_matrix_pt = od_matrix_pt.astype(int)\n",
    "\n",
    "\n",
    "pop_pc = pop_pc*4\n",
    "od_matrix_pc = od_matrix_pc*4\n",
    "\n",
    "pop_pt = pop_pt*4\n",
    "od_matrix_pt = od_matrix_pt*4\n",
    "\n",
    "for i in range(1,12):\n",
    "    pop_pc[i,:] = pop_pc[0,:]\n",
    "    pop_pt[i,:] = pop_pt[0,:]\n",
    "\n",
    "to_this_origin_pc   = np.sum(od_matrix_pc,axis = 1)\n",
    "from_this_origin_pc = np.sum(od_matrix_pc,axis = 2)\n",
    "\n",
    "to_this_origin_pt   = np.sum(od_matrix_pt,axis = 1)\n",
    "from_this_origin_pt = np.sum(od_matrix_pt,axis = 2)\n",
    "to_this_origin_pc_agg = np.sum(to_this_origin_pc,axis = 1)\n",
    "from_this_origin_pc_agg = np.sum(from_this_origin_pc,axis = 1)\n",
    "\n",
    "to_this_origin_pt_agg = np.sum(to_this_origin_pt,axis = 1)\n",
    "from_this_origin_pt_agg = np.sum(from_this_origin_pt,axis = 1)\n",
    "\n",
    "pop_pc_agg_5km = np.sum(pop_pc,axis=0)\n",
    "pop_pt_agg_5km = np.sum(pop_pt,axis=0)"
   ]
  },
  {
   "cell_type": "code",
   "execution_count": 16,
   "metadata": {},
   "outputs": [],
   "source": []
  },
  {
   "cell_type": "code",
   "execution_count": 45,
   "metadata": {},
   "outputs": [
    {
     "data": {
      "text/plain": [
       "30580272"
      ]
     },
     "execution_count": 45,
     "metadata": {},
     "output_type": "execute_result"
    }
   ],
   "source": [
    "pop_pc_agg_5km.sum(axis=0)"
   ]
  },
  {
   "cell_type": "code",
   "execution_count": 46,
   "metadata": {},
   "outputs": [
    {
     "data": {
      "text/plain": [
       "9323280"
      ]
     },
     "execution_count": 46,
     "metadata": {},
     "output_type": "execute_result"
    }
   ],
   "source": [
    "pop_pt_agg_5km.sum(axis=0)"
   ]
  },
  {
   "cell_type": "code",
   "execution_count": null,
   "metadata": {},
   "outputs": [],
   "source": []
  },
  {
   "cell_type": "code",
   "execution_count": 42,
   "metadata": {},
   "outputs": [
    {
     "data": {
      "text/plain": [
       "34422816"
      ]
     },
     "execution_count": 42,
     "metadata": {},
     "output_type": "execute_result"
    }
   ],
   "source": [
    "pop_pc_agg_cb.sum(axis=0)"
   ]
  },
  {
   "cell_type": "code",
   "execution_count": 43,
   "metadata": {},
   "outputs": [
    {
     "data": {
      "text/plain": [
       "10748448"
      ]
     },
     "execution_count": 43,
     "metadata": {},
     "output_type": "execute_result"
    }
   ],
   "source": [
    "pop_pt_agg_cb.sum(axis=0)"
   ]
  },
  {
   "cell_type": "code",
   "execution_count": null,
   "metadata": {},
   "outputs": [],
   "source": []
  }
 ],
 "metadata": {
  "kernelspec": {
   "display_name": "Python 3",
   "language": "python",
   "name": "python3"
  },
  "language_info": {
   "codemirror_mode": {
    "name": "ipython",
    "version": 3
   },
   "file_extension": ".py",
   "mimetype": "text/x-python",
   "name": "python",
   "nbconvert_exporter": "python",
   "pygments_lexer": "ipython3",
   "version": "3.7.6"
  }
 },
 "nbformat": 4,
 "nbformat_minor": 4
}
